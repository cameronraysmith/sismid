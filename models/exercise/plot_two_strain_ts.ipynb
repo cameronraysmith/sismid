{
 "cells": [
  {
   "cell_type": "markdown",
   "metadata": {},
   "source": [
    "#################################################################\t\t\t\t\t\t\t\t\t\t\t\t\t\t\t\t   #<br>\n",
    "Basic plot for two-strain SIR model:<br>\n",
    "Time series given some initial conditions<br>\n",
    "##################################################################"
   ]
  },
  {
   "cell_type": "code",
   "execution_count": 1,
   "metadata": {},
   "outputs": [],
   "source": [
    "import sys\n",
    "import csv\n",
    "import numpy as np\n",
    "import matplotlib as mpl\n",
    "from matplotlib.font_manager import FontProperties \n",
    "import matplotlib.pyplot as plt\n",
    "from two_strain import *"
   ]
  },
  {
   "cell_type": "markdown",
   "metadata": {},
   "source": [
    "Run parameters"
   ]
  },
  {
   "cell_type": "code",
   "execution_count": 2,
   "metadata": {},
   "outputs": [],
   "source": [
    "run_num = 1  # sys.argv[1]\n",
    "end_time = 100*365\n",
    "output_interval = 1.0\n",
    "step_size = 0.1"
   ]
  },
  {
   "cell_type": "markdown",
   "metadata": {},
   "source": [
    "Strain parameters, including initial conditions"
   ]
  },
  {
   "cell_type": "code",
   "execution_count": 3,
   "metadata": {},
   "outputs": [],
   "source": [
    "beta = np.array([5, 5])/7.0\n",
    "epsilon = 0.9\n",
    "gamma = np.array([1, 1])/7.0\n",
    "mu = 1/(10*365.0)\n",
    "alpha = np.array([0.5, 1.])\n",
    "a = np.array([1., 2.5])\n",
    "omega = 2*np.pi/365.\n",
    "obs_sd = 0.01"
   ]
  },
  {
   "cell_type": "code",
   "execution_count": 4,
   "metadata": {},
   "outputs": [],
   "source": [
    "NSS = 0.2\n",
    "NIS = 1e-3\n",
    "NRS = 0.02\n",
    "NRI = 0.0\n",
    "NSI = 1e-3\n",
    "NSR = 0.02\n",
    "NIR = 0.0"
   ]
  },
  {
   "cell_type": "markdown",
   "metadata": {},
   "source": [
    "Organize and run simulation"
   ]
  },
  {
   "cell_type": "code",
   "execution_count": 5,
   "metadata": {},
   "outputs": [],
   "source": [
    "params = np.array([gamma, mu, alpha, a, omega, beta, epsilon],dtype=\"object\")\n",
    "SI = np.array([NSS, NIS, NRS, NRI, NSI, NSR, NIR],dtype=\"object\")\n",
    "ic = np.array([NSS, NIS, NRS, NRI, NSI, NSR, NIR, 1-np.sum(SI)],dtype=\"object\")\n",
    "output = run_two_strain(end_time, output_interval, step_size, params, ic)"
   ]
  },
  {
   "cell_type": "markdown",
   "metadata": {},
   "source": [
    "Save output (NIS+NIR, NSI+NRI) to csv and plot"
   ]
  },
  {
   "cell_type": "code",
   "execution_count": 6,
   "metadata": {},
   "outputs": [],
   "source": [
    "infecteds = np.asarray([output[:, 1] + output[:, 6], output[:, 3] + output[:, 4]])\n",
    "times = np.arange(0,infecteds.shape[1])\n",
    "infecteds_t = np.vstack((times, infecteds))\n",
    "filename = 'infecteds_' + str(run_num) + '.csv'\n",
    "with open(filename, 'w') as csvfile:\n",
    "    writer = csv.writer(csvfile)\n",
    "    writer.writerow(['times', 'I1', 'I2'])\n",
    "    writer.writerows(infecteds_t.T)"
   ]
  },
  {
   "cell_type": "markdown",
   "metadata": {},
   "source": [
    "Add observation error if present"
   ]
  },
  {
   "cell_type": "code",
   "execution_count": 7,
   "metadata": {},
   "outputs": [],
   "source": [
    "if obs_sd > 0:\n",
    "    errors = np.random.normal(1, obs_sd, infecteds.shape)\n",
    "    infecteds_obs = infecteds*errors\n",
    "    filename = 'infecteds_obs_' + str(run_num) + '.csv'\n",
    "    with open(filename, 'w') as csvfile:\n",
    "        writer = csv.writer(csvfile)\n",
    "        writer.writerow(['times', 'I1', 'I2'])\n",
    "        writer.writerows(infecteds_t.T)"
   ]
  },
  {
   "cell_type": "code",
   "execution_count": null,
   "metadata": {},
   "outputs": [],
   "source": [
    "plt.subplot(3, 1, 1)\n",
    "plt.plot(output[:, 0], 'b-', label=r'$N_{SS}$')\n",
    "plt.plot(output[:, 2], 'g-', label=r'$N_{RS}$')\n",
    "plt.plot(output[:, 5], 'r-', label=r'$N_{SR}$')\n",
    "plt.plot(output[:, 7], 'c-', label=r'$N_{RR}$')\n",
    "plt.xlabel('Time')\n",
    "plt.ylabel('Uninfected')\n",
    "plt.legend(loc=1, prop=FontProperties(size='smaller'))\n",
    "plt.subplot(3, 1, 2)\n",
    "plt.plot(output[:, 1], 'b-', label=r'$N_{IS}$')\n",
    "plt.plot(output[:, 6], 'g-', label=r'$N_{IR}$')\n",
    "plt.plot((output[:, 1]+a[0]*output[:, 6]), 'r-', label=r'$I_1$')\n",
    "plt.xlabel('Time')\n",
    "plt.ylabel('Infected 1')\n",
    "plt.legend(loc=1, prop=FontProperties(size='smaller'))\n",
    "plt.subplot(3, 1, 3)\n",
    "plt.plot(output[:, 4], 'b-', label=r'$N_{SI}$')\n",
    "plt.plot(output[:, 3], 'g-', label=r'$N_{RI}$')\n",
    "plt.plot((output[:, 4]+a[1]*output[:, 3]), 'r-', label=r'$I_2$')\n",
    "plt.xlabel('Time')\n",
    "plt.ylabel('Infected 2')\n",
    "plt.legend(loc=1, prop=FontProperties(size='smaller'))\n",
    "plt.savefig(\"time_series_\" + str(run_num) + \".png\")\n",
    "plt.show()\n",
    "plt.close()"
   ]
  },
  {
   "cell_type": "code",
   "execution_count": null,
   "metadata": {},
   "outputs": [],
   "source": []
  },
  {
   "cell_type": "code",
   "execution_count": null,
   "metadata": {},
   "outputs": [],
   "source": []
  },
  {
   "cell_type": "code",
   "execution_count": null,
   "metadata": {},
   "outputs": [],
   "source": []
  }
 ],
 "metadata": {
  "kernelspec": {
   "display_name": "Python 3 (ipykernel)",
   "language": "python",
   "name": "python3"
  },
  "language_info": {
   "codemirror_mode": {
    "name": "ipython",
    "version": 3
   },
   "file_extension": ".py",
   "mimetype": "text/x-python",
   "name": "python",
   "nbconvert_exporter": "python",
   "pygments_lexer": "ipython3",
   "version": "3.9.1"
  }
 },
 "nbformat": 4,
 "nbformat_minor": 2
}
