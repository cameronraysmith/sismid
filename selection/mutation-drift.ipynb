{
 "cells": [
  {
   "cell_type": "markdown",
   "metadata": {},
   "source": [
    "# Wright-Fisher model of mutation and random genetic drift"
   ]
  },
  {
   "cell_type": "markdown",
   "metadata": {},
   "source": [
    "A Wright-Fisher model has a fixed population size *N* and discrete non-overlapping generations. Each generation, each individual has a random number of offspring whose mean is proportional to the individual's fitness. Each generation, mutation may occur."
   ]
  },
  {
   "cell_type": "markdown",
   "metadata": {},
   "source": [
    "## Setup"
   ]
  },
  {
   "cell_type": "code",
   "execution_count": 80,
   "metadata": {},
   "outputs": [],
   "source": [
    "import numpy as np\n",
    "try:\n",
    "    import itertools.izip as zip\n",
    "except ImportError:\n",
    "    import itertools"
   ]
  },
  {
   "cell_type": "markdown",
   "metadata": {},
   "source": [
    "## Make population dynamic model"
   ]
  },
  {
   "cell_type": "markdown",
   "metadata": {},
   "source": [
    "### Basic parameters"
   ]
  },
  {
   "cell_type": "code",
   "execution_count": 2,
   "metadata": {},
   "outputs": [],
   "source": [
    "pop_size = 100"
   ]
  },
  {
   "cell_type": "code",
   "execution_count": 3,
   "metadata": {},
   "outputs": [],
   "source": [
    "seq_length = 10"
   ]
  },
  {
   "cell_type": "code",
   "execution_count": 4,
   "metadata": {},
   "outputs": [],
   "source": [
    "alphabet = ['A', 'T', 'G', 'C']"
   ]
  },
  {
   "cell_type": "code",
   "execution_count": 5,
   "metadata": {},
   "outputs": [],
   "source": [
    "base_haplotype = \"AAAAAAAAAA\""
   ]
  },
  {
   "cell_type": "markdown",
   "metadata": {},
   "source": [
    "### Setup a population of sequences"
   ]
  },
  {
   "cell_type": "markdown",
   "metadata": {},
   "source": [
    "Store this as a lightweight Dictionary that maps a string to a count. All the sequences together will have count *N*."
   ]
  },
  {
   "cell_type": "code",
   "execution_count": 6,
   "metadata": {},
   "outputs": [],
   "source": [
    "pop = {}"
   ]
  },
  {
   "cell_type": "code",
   "execution_count": 7,
   "metadata": {},
   "outputs": [],
   "source": [
    "pop[\"AAAAAAAAAA\"] = 40"
   ]
  },
  {
   "cell_type": "code",
   "execution_count": 8,
   "metadata": {},
   "outputs": [],
   "source": [
    "pop[\"AAATAAAAAA\"] = 30"
   ]
  },
  {
   "cell_type": "code",
   "execution_count": 9,
   "metadata": {},
   "outputs": [],
   "source": [
    "pop[\"AATTTAAAAA\"] = 30"
   ]
  },
  {
   "cell_type": "code",
   "execution_count": 10,
   "metadata": {},
   "outputs": [
    {
     "data": {
      "text/plain": [
       "30"
      ]
     },
     "execution_count": 10,
     "metadata": {},
     "output_type": "execute_result"
    }
   ],
   "source": [
    "pop[\"AAATAAAAAA\"]"
   ]
  },
  {
   "cell_type": "markdown",
   "metadata": {},
   "source": [
    "### Add mutation"
   ]
  },
  {
   "cell_type": "markdown",
   "metadata": {},
   "source": [
    "Mutations occur each generation in each individual in every basepair."
   ]
  },
  {
   "cell_type": "code",
   "execution_count": 11,
   "metadata": {},
   "outputs": [],
   "source": [
    "mutation_rate = 0.005 # per gen per individual per site"
   ]
  },
  {
   "cell_type": "markdown",
   "metadata": {},
   "source": [
    "Walk through population and mutate basepairs. Use Poisson splitting to speed this up (you may be familiar with Poisson splitting from its use in the [Gillespie algorithm](https://en.wikipedia.org/wiki/Gillespie_algorithm)). \n",
    "\n",
    " * In naive scenario A: take each element and check for each if event occurs. For example, 100 elements, each with 1% chance. This requires 100 random numbers.\n",
    " * In Poisson splitting scenario B: Draw a Poisson random number for the number of events that occur and distribute them randomly. In the above example, this will most likely involve 1 random number draw to see how many events and then a few more draws to see which elements are hit."
   ]
  },
  {
   "cell_type": "markdown",
   "metadata": {},
   "source": [
    "First off, we need to get random number of total mutations"
   ]
  },
  {
   "cell_type": "code",
   "execution_count": 12,
   "metadata": {},
   "outputs": [],
   "source": [
    "def get_mutation_count():\n",
    "    mean = mutation_rate * pop_size * seq_length\n",
    "    return np.random.poisson(mean)"
   ]
  },
  {
   "cell_type": "markdown",
   "metadata": {},
   "source": [
    "Here we use Numpy's [Poisson random number](http://docs.scipy.org/doc/numpy/reference/generated/numpy.random.poisson.html)."
   ]
  },
  {
   "cell_type": "code",
   "execution_count": 13,
   "metadata": {},
   "outputs": [
    {
     "data": {
      "text/plain": [
       "3"
      ]
     },
     "execution_count": 13,
     "metadata": {},
     "output_type": "execute_result"
    }
   ],
   "source": [
    "get_mutation_count()"
   ]
  },
  {
   "cell_type": "markdown",
   "metadata": {},
   "source": [
    "We need to get random haplotype from the population."
   ]
  },
  {
   "cell_type": "code",
   "execution_count": 14,
   "metadata": {},
   "outputs": [
    {
     "data": {
      "text/plain": [
       "dict_keys(['AAAAAAAAAA', 'AAATAAAAAA', 'AATTTAAAAA'])"
      ]
     },
     "execution_count": 14,
     "metadata": {},
     "output_type": "execute_result"
    }
   ],
   "source": [
    "pop.keys()"
   ]
  },
  {
   "cell_type": "code",
   "execution_count": 15,
   "metadata": {},
   "outputs": [
    {
     "data": {
      "text/plain": [
       "[0.4, 0.3, 0.3]"
      ]
     },
     "execution_count": 15,
     "metadata": {},
     "output_type": "execute_result"
    }
   ],
   "source": [
    "[x/float(pop_size) for x in pop.values()]"
   ]
  },
  {
   "cell_type": "code",
   "execution_count": 16,
   "metadata": {},
   "outputs": [],
   "source": [
    "def get_random_haplotype():\n",
    "    haplotypes = list(pop.keys()) \n",
    "    frequencies = [x/float(pop_size) for x in pop.values()]\n",
    "    total = sum(frequencies)\n",
    "    frequencies = [x / total for x in frequencies]\n",
    "    return np.random.choice(haplotypes, p=frequencies)"
   ]
  },
  {
   "cell_type": "markdown",
   "metadata": {},
   "source": [
    "Here we use Numpy's [weighted random choice](http://docs.scipy.org/doc/numpy/reference/generated/numpy.random.choice.html)."
   ]
  },
  {
   "cell_type": "code",
   "execution_count": 17,
   "metadata": {},
   "outputs": [
    {
     "data": {
      "text/plain": [
       "'AAAAAAAAAA'"
      ]
     },
     "execution_count": 17,
     "metadata": {},
     "output_type": "execute_result"
    }
   ],
   "source": [
    "get_random_haplotype()"
   ]
  },
  {
   "cell_type": "markdown",
   "metadata": {},
   "source": [
    "Here, we take a supplied haplotype and mutate a site at random."
   ]
  },
  {
   "cell_type": "code",
   "execution_count": 18,
   "metadata": {},
   "outputs": [],
   "source": [
    "def get_mutant(haplotype):\n",
    "    site = np.random.randint(seq_length)\n",
    "    possible_mutations = list(alphabet)\n",
    "    possible_mutations.remove(haplotype[site])\n",
    "    mutation = np.random.choice(possible_mutations)\n",
    "    new_haplotype = haplotype[:site] + mutation + haplotype[site+1:]\n",
    "    return new_haplotype"
   ]
  },
  {
   "cell_type": "code",
   "execution_count": 19,
   "metadata": {},
   "outputs": [
    {
     "data": {
      "text/plain": [
       "'CAAAAAAAAA'"
      ]
     },
     "execution_count": 19,
     "metadata": {},
     "output_type": "execute_result"
    }
   ],
   "source": [
    "get_mutant(\"AAAAAAAAAA\")"
   ]
  },
  {
   "cell_type": "markdown",
   "metadata": {},
   "source": [
    "Putting things together, in a single mutation event, we grab a random haplotype from the population, mutate it, decrement its count, and then check if the mutant already exists in the population. If it does, increment this mutant haplotype; if it doesn't create a new haplotype of count 1. "
   ]
  },
  {
   "cell_type": "code",
   "execution_count": 20,
   "metadata": {},
   "outputs": [],
   "source": [
    "def mutation_event():\n",
    "    haplotype = get_random_haplotype()\n",
    "    if pop[haplotype] > 1:\n",
    "        pop[haplotype] -= 1\n",
    "        new_haplotype = get_mutant(haplotype)\n",
    "        if new_haplotype in pop:\n",
    "            pop[new_haplotype] += 1\n",
    "        else:\n",
    "            pop[new_haplotype] = 1"
   ]
  },
  {
   "cell_type": "code",
   "execution_count": 21,
   "metadata": {},
   "outputs": [],
   "source": [
    "mutation_event()"
   ]
  },
  {
   "cell_type": "code",
   "execution_count": 22,
   "metadata": {},
   "outputs": [
    {
     "data": {
      "text/plain": [
       "{'AAAAAAAAAA': 39, 'AAATAAAAAA': 30, 'AATTTAAAAA': 30, 'AACAAAAAAA': 1}"
      ]
     },
     "execution_count": 22,
     "metadata": {},
     "output_type": "execute_result"
    }
   ],
   "source": [
    "pop"
   ]
  },
  {
   "cell_type": "markdown",
   "metadata": {},
   "source": [
    "To create all the mutations that occur in a single generation, we draw the total count of mutations and then iteratively add mutation events."
   ]
  },
  {
   "cell_type": "code",
   "execution_count": 23,
   "metadata": {},
   "outputs": [],
   "source": [
    "def mutation_step():\n",
    "    mutation_count = get_mutation_count()\n",
    "    for i in range(mutation_count):\n",
    "        mutation_event()"
   ]
  },
  {
   "cell_type": "code",
   "execution_count": 24,
   "metadata": {},
   "outputs": [],
   "source": [
    "mutation_step()"
   ]
  },
  {
   "cell_type": "code",
   "execution_count": 25,
   "metadata": {},
   "outputs": [
    {
     "data": {
      "text/plain": [
       "{'AAAAAAAAAA': 39,\n",
       " 'AAATAAAAAA': 29,\n",
       " 'AATTTAAAAA': 29,\n",
       " 'AACAAAAAAA': 1,\n",
       " 'AACTTAAAAA': 1,\n",
       " 'AACTAAAAAA': 1}"
      ]
     },
     "execution_count": 25,
     "metadata": {},
     "output_type": "execute_result"
    }
   ],
   "source": [
    "pop"
   ]
  },
  {
   "cell_type": "markdown",
   "metadata": {},
   "source": [
    "### Add genetic drift"
   ]
  },
  {
   "cell_type": "markdown",
   "metadata": {},
   "source": [
    "Given a list of haplotype frequencies currently in the population, we can take a [multinomial draw](https://en.wikipedia.org/wiki/Multinomial_distribution) to get haplotype counts in the following generation."
   ]
  },
  {
   "cell_type": "code",
   "execution_count": 26,
   "metadata": {},
   "outputs": [],
   "source": [
    "def get_offspring_counts():\n",
    "    haplotypes = list(pop.keys()\n",
    "    frequencies = [x/float(pop_size) for x in pop.values()]\n",
    "    return list(np.random.multinomial(pop_size, frequencies))"
   ]
  },
  {
   "cell_type": "markdown",
   "metadata": {},
   "source": [
    "Here we use Numpy's [multinomial random sample](http://docs.scipy.org/doc/numpy/reference/generated/numpy.random.multinomial.html)."
   ]
  },
  {
   "cell_type": "code",
   "execution_count": 27,
   "metadata": {},
   "outputs": [
    {
     "data": {
      "text/plain": [
       "[40, 24, 32, 1, 0, 3]"
      ]
     },
     "execution_count": 27,
     "metadata": {},
     "output_type": "execute_result"
    }
   ],
   "source": [
    "get_offspring_counts()"
   ]
  },
  {
   "cell_type": "markdown",
   "metadata": {},
   "source": [
    "We then need to assign this new list of haplotype counts to the `pop` dictionary. To save memory and computation, if a haplotype goes to 0, we remove it entirely from the `pop` dictionary."
   ]
  },
  {
   "cell_type": "code",
   "execution_count": 28,
   "metadata": {},
   "outputs": [],
   "source": [
    "def offspring_step():\n",
    "    haplotypes = list(pop.keys())\n",
    "    counts = get_offspring_counts()\n",
    "    for (haplotype, count) in zip(haplotypes, counts):\n",
    "        if (count > 0):\n",
    "            pop[haplotype] = count\n",
    "        else:\n",
    "            del pop[haplotype]"
   ]
  },
  {
   "cell_type": "code",
   "execution_count": 29,
   "metadata": {},
   "outputs": [],
   "source": [
    "offspring_step()"
   ]
  },
  {
   "cell_type": "code",
   "execution_count": 30,
   "metadata": {},
   "outputs": [
    {
     "data": {
      "text/plain": [
       "{'AAAAAAAAAA': 50,\n",
       " 'AAATAAAAAA': 22,\n",
       " 'AATTTAAAAA': 24,\n",
       " 'AACAAAAAAA': 2,\n",
       " 'AACTAAAAAA': 2}"
      ]
     },
     "execution_count": 30,
     "metadata": {},
     "output_type": "execute_result"
    }
   ],
   "source": [
    "pop"
   ]
  },
  {
   "cell_type": "markdown",
   "metadata": {},
   "source": [
    "### Combine and iterate"
   ]
  },
  {
   "cell_type": "markdown",
   "metadata": {},
   "source": [
    "Each generation is simply a mutation step where a random number of mutations are thrown down, and an offspring step where haplotype counts are updated."
   ]
  },
  {
   "cell_type": "code",
   "execution_count": 31,
   "metadata": {},
   "outputs": [],
   "source": [
    "def time_step():\n",
    "    mutation_step()\n",
    "    offspring_step()"
   ]
  },
  {
   "cell_type": "markdown",
   "metadata": {},
   "source": [
    "Can iterate this over a number of generations."
   ]
  },
  {
   "cell_type": "code",
   "execution_count": 32,
   "metadata": {},
   "outputs": [],
   "source": [
    "generations = 5"
   ]
  },
  {
   "cell_type": "code",
   "execution_count": 33,
   "metadata": {},
   "outputs": [],
   "source": [
    "def simulate():\n",
    "    for i in range(generations):\n",
    "        time_step()"
   ]
  },
  {
   "cell_type": "code",
   "execution_count": 34,
   "metadata": {},
   "outputs": [],
   "source": [
    "simulate()"
   ]
  },
  {
   "cell_type": "code",
   "execution_count": 35,
   "metadata": {},
   "outputs": [
    {
     "data": {
      "text/plain": [
       "{'AAAAAAAAAA': 42,\n",
       " 'AAATAAAAAA': 21,\n",
       " 'AATTTAAAAA': 19,\n",
       " 'AAAAAATAAA': 2,\n",
       " 'GAAAAAAAAA': 2,\n",
       " 'AAAAAATAGA': 3,\n",
       " 'AAATAAACAA': 1,\n",
       " 'AAATAAAGAA': 2,\n",
       " 'CAAAAAAAAA': 1,\n",
       " 'AAAATAAAAA': 1,\n",
       " 'AATTAAAAAA': 1,\n",
       " 'CAAAAAGAAA': 1,\n",
       " 'CAAAAATAGA': 2,\n",
       " 'AAAAGAAAAA': 2}"
      ]
     },
     "execution_count": 35,
     "metadata": {},
     "output_type": "execute_result"
    }
   ],
   "source": [
    "pop"
   ]
  },
  {
   "cell_type": "markdown",
   "metadata": {},
   "source": [
    "### Record"
   ]
  },
  {
   "cell_type": "markdown",
   "metadata": {},
   "source": [
    "We want to keep a record of past population frequencies to understand dynamics through time. At each step in the simulation, we append to a history object."
   ]
  },
  {
   "cell_type": "code",
   "execution_count": 36,
   "metadata": {},
   "outputs": [],
   "source": [
    "pop = {\"AAAAAAAAAA\": pop_size}"
   ]
  },
  {
   "cell_type": "code",
   "execution_count": 37,
   "metadata": {},
   "outputs": [],
   "source": [
    "history = []"
   ]
  },
  {
   "cell_type": "code",
   "execution_count": 38,
   "metadata": {},
   "outputs": [],
   "source": [
    "def simulate():\n",
    "    clone_pop = dict(pop)\n",
    "    history.append(clone_pop)\n",
    "    for i in range(generations):\n",
    "        time_step()\n",
    "        clone_pop = dict(pop)\n",
    "        history.append(clone_pop)"
   ]
  },
  {
   "cell_type": "code",
   "execution_count": 39,
   "metadata": {},
   "outputs": [],
   "source": [
    "simulate()"
   ]
  },
  {
   "cell_type": "code",
   "execution_count": 40,
   "metadata": {},
   "outputs": [
    {
     "data": {
      "text/plain": [
       "{'AAAAAAAAAA': 75,\n",
       " 'AAAGAAAAAA': 1,\n",
       " 'AAAAAGAAAA': 5,\n",
       " 'AAAAATAAAA': 2,\n",
       " 'AAAAAAGAAA': 2,\n",
       " 'AGAAAAAAAA': 1,\n",
       " 'AAACAAAAAA': 8,\n",
       " 'AAAAAAAACA': 2,\n",
       " 'AAAATAAAAA': 2,\n",
       " 'GAACAAAAAA': 1,\n",
       " 'AAATAAAAAA': 1}"
      ]
     },
     "execution_count": 40,
     "metadata": {},
     "output_type": "execute_result"
    }
   ],
   "source": [
    "pop"
   ]
  },
  {
   "cell_type": "code",
   "execution_count": 41,
   "metadata": {},
   "outputs": [
    {
     "data": {
      "text/plain": [
       "{'AAAAAAAAAA': 100}"
      ]
     },
     "execution_count": 41,
     "metadata": {},
     "output_type": "execute_result"
    }
   ],
   "source": [
    "history[0]"
   ]
  },
  {
   "cell_type": "code",
   "execution_count": 42,
   "metadata": {},
   "outputs": [
    {
     "data": {
      "text/plain": [
       "{'AAAAAAAAAA': 98, 'AAAAAAATAA': 2}"
      ]
     },
     "execution_count": 42,
     "metadata": {},
     "output_type": "execute_result"
    }
   ],
   "source": [
    "history[1]"
   ]
  },
  {
   "cell_type": "code",
   "execution_count": 43,
   "metadata": {},
   "outputs": [
    {
     "data": {
      "text/plain": [
       "{'AAAAAAAAAA': 93,\n",
       " 'AAAAAAATAA': 3,\n",
       " 'AAAGAAAAAA': 1,\n",
       " 'AAAAAATAAA': 1,\n",
       " 'AAAAAGAAAA': 2}"
      ]
     },
     "execution_count": 43,
     "metadata": {},
     "output_type": "execute_result"
    }
   ],
   "source": [
    "history[2]"
   ]
  },
  {
   "cell_type": "markdown",
   "metadata": {},
   "source": [
    "## Analyze trajectories"
   ]
  },
  {
   "cell_type": "markdown",
   "metadata": {},
   "source": [
    "### Calculate diversity"
   ]
  },
  {
   "cell_type": "markdown",
   "metadata": {},
   "source": [
    "Here, diversity in population genetics is usually shorthand for the statistic *&pi;*, which measures pairwise differences between random individuals in the population. *&pi;* is usually measured as substitutions per site."
   ]
  },
  {
   "cell_type": "code",
   "execution_count": 44,
   "metadata": {
    "scrolled": false
   },
   "outputs": [
    {
     "data": {
      "text/plain": [
       "{'AAAAAAAAAA': 75,\n",
       " 'AAAGAAAAAA': 1,\n",
       " 'AAAAAGAAAA': 5,\n",
       " 'AAAAATAAAA': 2,\n",
       " 'AAAAAAGAAA': 2,\n",
       " 'AGAAAAAAAA': 1,\n",
       " 'AAACAAAAAA': 8,\n",
       " 'AAAAAAAACA': 2,\n",
       " 'AAAATAAAAA': 2,\n",
       " 'GAACAAAAAA': 1,\n",
       " 'AAATAAAAAA': 1}"
      ]
     },
     "execution_count": 44,
     "metadata": {},
     "output_type": "execute_result"
    }
   ],
   "source": [
    "pop"
   ]
  },
  {
   "cell_type": "markdown",
   "metadata": {},
   "source": [
    "First, we need to calculate the number of differences per site between two arbitrary sequences."
   ]
  },
  {
   "cell_type": "code",
   "execution_count": 45,
   "metadata": {},
   "outputs": [],
   "source": [
    "def get_distance(seq_a, seq_b):\n",
    "    diffs = 0\n",
    "    length = len(seq_a)\n",
    "    assert len(seq_a) == len(seq_b)\n",
    "    for chr_a, chr_b in zip(seq_a, seq_b):\n",
    "        if chr_a != chr_b:\n",
    "            diffs += 1\n",
    "    return diffs / float(length)"
   ]
  },
  {
   "cell_type": "code",
   "execution_count": 46,
   "metadata": {},
   "outputs": [
    {
     "data": {
      "text/plain": [
       "0.1"
      ]
     },
     "execution_count": 46,
     "metadata": {},
     "output_type": "execute_result"
    }
   ],
   "source": [
    "get_distance(\"AAAAAAAAAA\", \"AAAAAAAAAB\")"
   ]
  },
  {
   "cell_type": "markdown",
   "metadata": {},
   "source": [
    "We calculate diversity as a weighted average between all pairs of haplotypes, weighted by pairwise haplotype frequency."
   ]
  },
  {
   "cell_type": "code",
   "execution_count": 47,
   "metadata": {},
   "outputs": [],
   "source": [
    "def get_diversity(population):\n",
    "    haplotypes = list(population.keys())\n",
    "    haplotype_count = len(haplotypes)\n",
    "    diversity = 0\n",
    "    for i in range(haplotype_count):\n",
    "        for j in range(haplotype_count):\n",
    "            haplotype_a = haplotypes[i]\n",
    "            haplotype_b = haplotypes[j]\n",
    "            frequency_a = population[haplotype_a] / float(pop_size)\n",
    "            frequency_b = population[haplotype_b] / float(pop_size)\n",
    "            frequency_pair = frequency_a * frequency_b\n",
    "            diversity += frequency_pair * get_distance(haplotype_a, haplotype_b)\n",
    "    return diversity"
   ]
  },
  {
   "cell_type": "code",
   "execution_count": 48,
   "metadata": {},
   "outputs": [
    {
     "data": {
      "text/plain": [
       "0.04889999999999992"
      ]
     },
     "execution_count": 48,
     "metadata": {},
     "output_type": "execute_result"
    }
   ],
   "source": [
    "get_diversity(pop)"
   ]
  },
  {
   "cell_type": "code",
   "execution_count": 49,
   "metadata": {},
   "outputs": [],
   "source": [
    "def get_diversity_trajectory():\n",
    "    trajectory = [get_diversity(generation) for generation in history]\n",
    "    return trajectory"
   ]
  },
  {
   "cell_type": "code",
   "execution_count": 50,
   "metadata": {},
   "outputs": [
    {
     "data": {
      "text/plain": [
       "[0.0,\n",
       " 0.00392,\n",
       " 0.013699999999999999,\n",
       " 0.030939999999999978,\n",
       " 0.033919999999999985,\n",
       " 0.04889999999999992]"
      ]
     },
     "execution_count": 50,
     "metadata": {},
     "output_type": "execute_result"
    }
   ],
   "source": [
    "get_diversity_trajectory()"
   ]
  },
  {
   "cell_type": "markdown",
   "metadata": {},
   "source": [
    "### Plot diversity"
   ]
  },
  {
   "cell_type": "markdown",
   "metadata": {},
   "source": [
    "Here, we use [matplotlib](http://matplotlib.org/) for all Python plotting."
   ]
  },
  {
   "cell_type": "code",
   "execution_count": 51,
   "metadata": {},
   "outputs": [],
   "source": [
    "%matplotlib inline\n",
    "import matplotlib.pyplot as plt\n",
    "import matplotlib as mpl"
   ]
  },
  {
   "cell_type": "markdown",
   "metadata": {},
   "source": [
    "Here, we make a simple line plot using matplotlib's `plot` function."
   ]
  },
  {
   "cell_type": "code",
   "execution_count": 52,
   "metadata": {},
   "outputs": [
    {
     "data": {
      "text/plain": [
       "[<matplotlib.lines.Line2D at 0x10c715eb8>]"
      ]
     },
     "execution_count": 52,
     "metadata": {},
     "output_type": "execute_result"
    },
    {
     "data": {
      "image/png": "[encoded data removed]",
      "text/plain": [
       "<Figure size 432x288 with 1 Axes>"
      ]
     },
     "metadata": {},
     "output_type": "display_data"
    }
   ],
   "source": [
    "plt.plot(get_diversity_trajectory())"
   ]
  },
  {
   "cell_type": "markdown",
   "metadata": {},
   "source": [
    "Here, we style the plot a bit with x and y axes labels."
   ]
  },
  {
   "cell_type": "code",
   "execution_count": 53,
   "metadata": {},
   "outputs": [],
   "source": [
    "def diversity_plot():\n",
    "    mpl.rcParams['font.size']=14\n",
    "    trajectory = get_diversity_trajectory()\n",
    "    plt.plot(trajectory, \"#447CCD\")    \n",
    "    plt.ylabel(\"diversity\")\n",
    "    plt.xlabel(\"generation\")"
   ]
  },
  {
   "cell_type": "code",
   "execution_count": 54,
   "metadata": {},
   "outputs": [
    {
     "data": {
      "image/png": "[encoded data removed]",
      "text/plain": [
       "<Figure size 432x288 with 1 Axes>"
      ]
     },
     "metadata": {},
     "output_type": "display_data"
    }
   ],
   "source": [
    "diversity_plot()"
   ]
  },
  {
   "cell_type": "markdown",
   "metadata": {},
   "source": [
    "### Analyze and plot divergence"
   ]
  },
  {
   "cell_type": "markdown",
   "metadata": {},
   "source": [
    "In population genetics, divergence is generally the number of substitutions away from a reference sequence. In this case, we can measure the average distance of the population to the starting haplotype. Again, this will be measured in terms of substitutions per site."
   ]
  },
  {
   "cell_type": "code",
   "execution_count": 55,
   "metadata": {},
   "outputs": [],
   "source": [
    "def get_divergence(population):\n",
    "    haplotypes = population.keys()\n",
    "    divergence = 0\n",
    "    for haplotype in haplotypes:\n",
    "        frequency = population[haplotype] / float(pop_size)\n",
    "        divergence += frequency * get_distance(base_haplotype, haplotype)\n",
    "    return divergence"
   ]
  },
  {
   "cell_type": "code",
   "execution_count": 56,
   "metadata": {},
   "outputs": [],
   "source": [
    "def get_divergence_trajectory():\n",
    "    trajectory = [get_divergence(generation) for generation in history]\n",
    "    return trajectory"
   ]
  },
  {
   "cell_type": "code",
   "execution_count": 57,
   "metadata": {},
   "outputs": [
    {
     "data": {
      "text/plain": [
       "[0.0, 0.002, 0.007, 0.016, 0.018000000000000002, 0.026000000000000002]"
      ]
     },
     "execution_count": 57,
     "metadata": {},
     "output_type": "execute_result"
    }
   ],
   "source": [
    "get_divergence_trajectory()"
   ]
  },
  {
   "cell_type": "code",
   "execution_count": 58,
   "metadata": {},
   "outputs": [],
   "source": [
    "def divergence_plot():\n",
    "    mpl.rcParams['font.size']=14\n",
    "    trajectory = get_divergence_trajectory()\n",
    "    plt.plot(trajectory, \"#447CCD\")\n",
    "    plt.ylabel(\"divergence\")\n",
    "    plt.xlabel(\"generation\") "
   ]
  },
  {
   "cell_type": "code",
   "execution_count": 59,
   "metadata": {},
   "outputs": [
    {
     "data": {
      "image/png": "[encoded data removed]",
      "text/plain": [
       "<Figure size 432x288 with 1 Axes>"
      ]
     },
     "metadata": {},
     "output_type": "display_data"
    }
   ],
   "source": [
    "divergence_plot()"
   ]
  },
  {
   "cell_type": "markdown",
   "metadata": {
    "collapsed": true
   },
   "source": [
    "### Plot haplotype trajectories"
   ]
  },
  {
   "cell_type": "markdown",
   "metadata": {},
   "source": [
    "We also want to directly look at haplotype frequencies through time."
   ]
  },
  {
   "cell_type": "code",
   "execution_count": 60,
   "metadata": {},
   "outputs": [],
   "source": [
    "def get_frequency(haplotype, generation):\n",
    "    pop_at_generation = history[generation]\n",
    "    if haplotype in pop_at_generation:\n",
    "        return pop_at_generation[haplotype]/float(pop_size)\n",
    "    else:\n",
    "        return 0"
   ]
  },
  {
   "cell_type": "code",
   "execution_count": 61,
   "metadata": {},
   "outputs": [
    {
     "data": {
      "text/plain": [
       "0.82"
      ]
     },
     "execution_count": 61,
     "metadata": {},
     "output_type": "execute_result"
    }
   ],
   "source": [
    "get_frequency(\"AAAAAAAAAA\", 4)"
   ]
  },
  {
   "cell_type": "code",
   "execution_count": 62,
   "metadata": {},
   "outputs": [],
   "source": [
    "def get_trajectory(haplotype):\n",
    "    trajectory = [get_frequency(haplotype, gen) for gen in range(generations)]\n",
    "    return trajectory"
   ]
  },
  {
   "cell_type": "code",
   "execution_count": 63,
   "metadata": {},
   "outputs": [
    {
     "data": {
      "text/plain": [
       "[1.0, 0.98, 0.93, 0.84, 0.82]"
      ]
     },
     "execution_count": 63,
     "metadata": {},
     "output_type": "execute_result"
    }
   ],
   "source": [
    "get_trajectory(\"AAAAAAAAAA\")"
   ]
  },
  {
   "cell_type": "markdown",
   "metadata": {},
   "source": [
    "We want to plot all haplotypes seen during the simulation."
   ]
  },
  {
   "cell_type": "code",
   "execution_count": 64,
   "metadata": {},
   "outputs": [],
   "source": [
    "def get_all_haplotypes():\n",
    "    haplotypes = set()   \n",
    "    for generation in history:\n",
    "        for haplotype in generation:\n",
    "            haplotypes.add(haplotype)\n",
    "    return haplotypes"
   ]
  },
  {
   "cell_type": "code",
   "execution_count": 65,
   "metadata": {},
   "outputs": [
    {
     "data": {
      "text/plain": [
       "{'AAAAAAAAAA',\n",
       " 'AAAAAAAACA',\n",
       " 'AAAAAAATAA',\n",
       " 'AAAAAAGAAA',\n",
       " 'AAAAAATAAA',\n",
       " 'AAAAAGAAAA',\n",
       " 'AAAAATAAAA',\n",
       " 'AAAATAAAAA',\n",
       " 'AAACAAAAAA',\n",
       " 'AAAGAAAAAA',\n",
       " 'AAATAAAAAA',\n",
       " 'AAGAAAAAAA',\n",
       " 'AGAAAAAAAA',\n",
       " 'GAAAAAAAAA',\n",
       " 'GAACAAAAAA'}"
      ]
     },
     "execution_count": 65,
     "metadata": {},
     "output_type": "execute_result"
    }
   ],
   "source": [
    "get_all_haplotypes()"
   ]
  },
  {
   "cell_type": "markdown",
   "metadata": {},
   "source": [
    "Here is a simple plot of their overall frequencies."
   ]
  },
  {
   "cell_type": "code",
   "execution_count": 66,
   "metadata": {},
   "outputs": [
    {
     "data": {
      "image/png": "[encoded data removed]",
      "text/plain": [
       "<Figure size 432x288 with 1 Axes>"
      ]
     },
     "metadata": {},
     "output_type": "display_data"
    }
   ],
   "source": [
    "haplotypes = get_all_haplotypes()\n",
    "for haplotype in haplotypes:\n",
    "    plt.plot(get_trajectory(haplotype))\n",
    "plt.show()"
   ]
  },
  {
   "cell_type": "code",
   "execution_count": 67,
   "metadata": {},
   "outputs": [],
   "source": [
    "colors = [\"#781C86\", \"#571EA2\", \"#462EB9\", \"#3F47C9\", \"#3F63CF\", \"#447CCD\", \"#4C90C0\", \"#56A0AE\", \"#63AC9A\", \"#72B485\", \"#83BA70\", \"#96BD60\", \"#AABD52\", \"#BDBB48\", \"#CEB541\", \"#DCAB3C\", \"#E49938\", \"#E68133\", \"#E4632E\", \"#DF4327\", \"#DB2122\"]"
   ]
  },
  {
   "cell_type": "code",
   "execution_count": 68,
   "metadata": {},
   "outputs": [],
   "source": [
    "colors_lighter = [\"#A567AF\", \"#8F69C1\", \"#8474D1\", \"#7F85DB\", \"#7F97DF\", \"#82A8DD\", \"#88B5D5\", \"#8FC0C9\", \"#97C8BC\", \"#A1CDAD\", \"#ACD1A0\", \"#B9D395\", \"#C6D38C\", \"#D3D285\", \"#DECE81\", \"#E8C77D\", \"#EDBB7A\", \"#EEAB77\", \"#ED9773\", \"#EA816F\", \"#E76B6B\"]"
   ]
  },
  {
   "cell_type": "markdown",
   "metadata": {},
   "source": [
    "We can use `stackplot` to stack these trajectoies on top of each other to get a better picture of what's going on."
   ]
  },
  {
   "cell_type": "code",
   "execution_count": 69,
   "metadata": {},
   "outputs": [],
   "source": [
    "def stacked_trajectory_plot(xlabel=\"generation\"):\n",
    "    mpl.rcParams['font.size']=18\n",
    "    haplotypes = get_all_haplotypes()\n",
    "    trajectories = [get_trajectory(haplotype) for haplotype in haplotypes]\n",
    "    plt.stackplot(range(generations), trajectories, colors=colors_lighter)\n",
    "    plt.ylim(0, 1)\n",
    "    plt.ylabel(\"frequency\")\n",
    "    plt.xlabel(xlabel)"
   ]
  },
  {
   "cell_type": "code",
   "execution_count": 70,
   "metadata": {},
   "outputs": [
    {
     "data": {
      "image/png": "[encoded data removed]",
      "text/plain": [
       "<Figure size 432x288 with 1 Axes>"
      ]
     },
     "metadata": {},
     "output_type": "display_data"
    }
   ],
   "source": [
    "stacked_trajectory_plot()"
   ]
  },
  {
   "cell_type": "markdown",
   "metadata": {},
   "source": [
    "### Plot SNP trajectories"
   ]
  },
  {
   "cell_type": "code",
   "execution_count": 71,
   "metadata": {},
   "outputs": [],
   "source": [
    "def get_snp_frequency(site, generation):\n",
    "    minor_allele_frequency = 0.0\n",
    "    pop_at_generation = history[generation]\n",
    "    for haplotype in pop_at_generation.keys():\n",
    "        allele = haplotype[site]\n",
    "        frequency = pop_at_generation[haplotype] / float(pop_size)\n",
    "        if allele != \"A\":\n",
    "            minor_allele_frequency += frequency\n",
    "    return minor_allele_frequency"
   ]
  },
  {
   "cell_type": "code",
   "execution_count": 72,
   "metadata": {},
   "outputs": [
    {
     "data": {
      "text/plain": [
       "0.10999999999999999"
      ]
     },
     "execution_count": 72,
     "metadata": {},
     "output_type": "execute_result"
    }
   ],
   "source": [
    "get_snp_frequency(3, 5)"
   ]
  },
  {
   "cell_type": "code",
   "execution_count": 73,
   "metadata": {},
   "outputs": [],
   "source": [
    "def get_snp_trajectory(site):\n",
    "    trajectory = [get_snp_frequency(site, gen) for gen in range(generations)]\n",
    "    return trajectory"
   ]
  },
  {
   "cell_type": "code",
   "execution_count": 74,
   "metadata": {},
   "outputs": [
    {
     "data": {
      "text/plain": [
       "[0.0, 0.0, 0.01, 0.04, 0.09]"
      ]
     },
     "execution_count": 74,
     "metadata": {},
     "output_type": "execute_result"
    }
   ],
   "source": [
    "get_snp_trajectory(3)"
   ]
  },
  {
   "cell_type": "markdown",
   "metadata": {},
   "source": [
    "Find all variable sites."
   ]
  },
  {
   "cell_type": "code",
   "execution_count": 75,
   "metadata": {},
   "outputs": [],
   "source": [
    "def get_all_snps():\n",
    "    snps = set()   \n",
    "    for generation in history:\n",
    "        for haplotype in generation:\n",
    "            for site in range(seq_length):\n",
    "                if haplotype[site] != \"A\":\n",
    "                    snps.add(site)\n",
    "    return snps"
   ]
  },
  {
   "cell_type": "code",
   "execution_count": 78,
   "metadata": {},
   "outputs": [],
   "source": [
    "def snp_trajectory_plot(xlabel=\"generation\"):\n",
    "    mpl.rcParams['font.size']=18\n",
    "    snps = get_all_snps()\n",
    "    trajectories = [get_snp_trajectory(snp) for snp in snps]\n",
    "    data = []\n",
    "    for trajectory, color in zip(trajectories, cycle(colors)):\n",
    "        data.append(range(generations))\n",
    "        data.append(trajectory)    \n",
    "        data.append(color)\n",
    "    plt.plot(*data)   \n",
    "    plt.ylim(0, 1)\n",
    "    plt.ylabel(\"frequency\")\n",
    "    plt.xlabel(xlabel)"
   ]
  },
  {
   "cell_type": "code",
   "execution_count": 79,
   "metadata": {},
   "outputs": [
    {
     "ename": "NameError",
     "evalue": "name 'cycle' is not defined",
     "output_type": "error",
     "traceback": [
      "\u001b[0;31m---------------------------------------------------------------------------\u001b[0m",
      "\u001b[0;31mNameError\u001b[0m                                 Traceback (most recent call last)",
      "\u001b[0;32m<ipython-input-79-ac55ced4ac01>\u001b[0m in \u001b[0;36m<module>\u001b[0;34m()\u001b[0m\n\u001b[0;32m----> 1\u001b[0;31m \u001b[0msnp_trajectory_plot\u001b[0m\u001b[0;34m(\u001b[0m\u001b[0;34m)\u001b[0m\u001b[0;34m\u001b[0m\u001b[0m\n\u001b[0m",
      "\u001b[0;32m<ipython-input-78-5329207c36a8>\u001b[0m in \u001b[0;36msnp_trajectory_plot\u001b[0;34m(xlabel)\u001b[0m\n\u001b[1;32m      4\u001b[0m     \u001b[0mtrajectories\u001b[0m \u001b[0;34m=\u001b[0m \u001b[0;34m[\u001b[0m\u001b[0mget_snp_trajectory\u001b[0m\u001b[0;34m(\u001b[0m\u001b[0msnp\u001b[0m\u001b[0;34m)\u001b[0m \u001b[0;32mfor\u001b[0m \u001b[0msnp\u001b[0m \u001b[0;32min\u001b[0m \u001b[0msnps\u001b[0m\u001b[0;34m]\u001b[0m\u001b[0;34m\u001b[0m\u001b[0m\n\u001b[1;32m      5\u001b[0m     \u001b[0mdata\u001b[0m \u001b[0;34m=\u001b[0m \u001b[0;34m[\u001b[0m\u001b[0;34m]\u001b[0m\u001b[0;34m\u001b[0m\u001b[0m\n\u001b[0;32m----> 6\u001b[0;31m     \u001b[0;32mfor\u001b[0m \u001b[0mtrajectory\u001b[0m\u001b[0;34m,\u001b[0m \u001b[0mcolor\u001b[0m \u001b[0;32min\u001b[0m \u001b[0mzip\u001b[0m\u001b[0;34m(\u001b[0m\u001b[0mtrajectories\u001b[0m\u001b[0;34m,\u001b[0m \u001b[0mcycle\u001b[0m\u001b[0;34m(\u001b[0m\u001b[0mcolors\u001b[0m\u001b[0;34m)\u001b[0m\u001b[0;34m)\u001b[0m\u001b[0;34m:\u001b[0m\u001b[0;34m\u001b[0m\u001b[0m\n\u001b[0m\u001b[1;32m      7\u001b[0m         \u001b[0mdata\u001b[0m\u001b[0;34m.\u001b[0m\u001b[0mappend\u001b[0m\u001b[0;34m(\u001b[0m\u001b[0mrange\u001b[0m\u001b[0;34m(\u001b[0m\u001b[0mgenerations\u001b[0m\u001b[0;34m)\u001b[0m\u001b[0;34m)\u001b[0m\u001b[0;34m\u001b[0m\u001b[0m\n\u001b[1;32m      8\u001b[0m         \u001b[0mdata\u001b[0m\u001b[0;34m.\u001b[0m\u001b[0mappend\u001b[0m\u001b[0;34m(\u001b[0m\u001b[0mtrajectory\u001b[0m\u001b[0;34m)\u001b[0m\u001b[0;34m\u001b[0m\u001b[0m\n",
      "\u001b[0;31mNameError\u001b[0m: name 'cycle' is not defined"
     ]
    }
   ],
   "source": [
    "snp_trajectory_plot()"
   ]
  },
  {
   "cell_type": "markdown",
   "metadata": {},
   "source": [
    "## Scale up"
   ]
  },
  {
   "cell_type": "markdown",
   "metadata": {},
   "source": [
    "Here, we scale up to more interesting parameter values."
   ]
  },
  {
   "cell_type": "code",
   "execution_count": null,
   "metadata": {},
   "outputs": [],
   "source": [
    "pop_size = 50\n",
    "seq_length = 100\n",
    "generations = 500\n",
    "mutation_rate = 0.0001 # per gen per individual per site"
   ]
  },
  {
   "cell_type": "markdown",
   "metadata": {},
   "source": [
    "In this case there are $\\mu$ = 0.01 mutations entering the population every generation."
   ]
  },
  {
   "cell_type": "code",
   "execution_count": null,
   "metadata": {},
   "outputs": [],
   "source": [
    "seq_length * mutation_rate"
   ]
  },
  {
   "cell_type": "markdown",
   "metadata": {},
   "source": [
    "And the population genetic parameter $\\theta$, which equals $2N\\mu$, is 1."
   ]
  },
  {
   "cell_type": "code",
   "execution_count": null,
   "metadata": {},
   "outputs": [],
   "source": [
    "2 * pop_size * seq_length * mutation_rate"
   ]
  },
  {
   "cell_type": "code",
   "execution_count": null,
   "metadata": {},
   "outputs": [],
   "source": [
    "base_haplotype = ''.join([\"A\" for i in range(seq_length)])\n",
    "pop.clear()\n",
    "del history[:]\n",
    "pop[base_haplotype] = pop_size"
   ]
  },
  {
   "cell_type": "code",
   "execution_count": null,
   "metadata": {},
   "outputs": [],
   "source": [
    "simulate()"
   ]
  },
  {
   "cell_type": "code",
   "execution_count": null,
   "metadata": {},
   "outputs": [],
   "source": [
    "plt.figure(num=None, figsize=(14, 14), dpi=80, facecolor='w', edgecolor='k')\n",
    "plt.subplot2grid((3,2), (0,0), colspan=2)\n",
    "stacked_trajectory_plot(xlabel=\"\")\n",
    "plt.subplot2grid((3,2), (1,0), colspan=2)\n",
    "snp_trajectory_plot(xlabel=\"\")\n",
    "plt.subplot2grid((3,2), (2,0))\n",
    "diversity_plot()\n",
    "plt.subplot2grid((3,2), (2,1))\n",
    "divergence_plot()"
   ]
  }
 ],
 "metadata": {
  "kernelspec": {
   "display_name": "Python 3",
   "language": "python",
   "name": "python3"
  },
  "language_info": {
   "codemirror_mode": {
    "name": "ipython",
    "version": 3
   },
   "file_extension": ".py",
   "mimetype": "text/x-python",
   "name": "python",
   "nbconvert_exporter": "python",
   "pygments_lexer": "ipython3",
   "version": "3.6.5"
  }
 },
 "nbformat": 4,
 "nbformat_minor": 1
}
